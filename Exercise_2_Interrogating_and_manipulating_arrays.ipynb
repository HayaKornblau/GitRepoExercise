{
  "nbformat": 4,
  "nbformat_minor": 0,
  "metadata": {
    "colab": {
      "name": "Exercise #2 -  Interrogating and manipulating arrays.ipynb",
      "provenance": [],
      "include_colab_link": true
    },
    "kernelspec": {
      "name": "python3",
      "display_name": "Python 3"
    },
    "accelerator": "GPU"
  },
  "cells": [
    {
      "cell_type": "markdown",
      "metadata": {
        "id": "view-in-github",
        "colab_type": "text"
      },
      "source": [
        "<a href=\"https://colab.research.google.com/github/HayaKornblau/GitRepoExercise/blob/master/Exercise_2_Interrogating_and_manipulating_arrays.ipynb\" target=\"_parent\"><img src=\"https://colab.research.google.com/assets/colab-badge.svg\" alt=\"Open In Colab\"/></a>"
      ]
    },
    {
      "cell_type": "markdown",
      "metadata": {
        "id": "IZe1ZEda2w-d"
      },
      "source": [
        "#Exercise #2: Interrogating and manipulating arrays\n",
        "\n",
        "###Aim: Learn how to interrogate and manipulate NumPy arrays\n",
        "\n",
        "In this exercise we refers to a useful guide that can help you solve any questions in NumPy. This guide also summarize all that is needed to know about NumPy. [link to the guide](https://drive.google.com/file/d/0B9crmgoWupXkLTh0TS1HMzlrSVk/view)\n",
        "\n",
        "###Issue covered:\n",
        "\n",
        "\n",
        "\n",
        "*   Intertogating the properties of an array\n",
        "*   Manipulating arrays to change their properties.\n",
        "\n"
      ]
    },
    {
      "cell_type": "code",
      "metadata": {
        "id": "4dgyBR1B3QVZ"
      },
      "source": [
        "import numpy as np"
      ],
      "execution_count": 9,
      "outputs": []
    },
    {
      "cell_type": "markdown",
      "metadata": {
        "id": "TWRqPfxK5Q-M"
      },
      "source": [
        "\n",
        "\n",
        "### 1.  Let’s interrogate an array to find out its characteristics.\n",
        "Recall what you’ve read in Exercise #1, read page 11 and then:\n",
        "\n",
        "\n"
      ]
    },
    {
      "cell_type": "markdown",
      "metadata": {
        "id": "tCxziE8W6ryJ"
      },
      "source": [
        "\n",
        ">(a)  Create a 2-D array shape (2,4) containing two lists:\n",
        " (range(4), range(10, 14)) and assign it to the variable \"arr\") :\n",
        "\n",
        "\n",
        "\n",
        "\n",
        "\n"
      ]
    },
    {
      "cell_type": "code",
      "metadata": {
        "id": "M8Gr9PQC64mb",
        "colab": {
          "base_uri": "https://localhost:8080/"
        },
        "outputId": "1440bdac-d09e-4754-9480-2aa61f792972"
      },
      "source": [
        "# Your Code Here#\n",
        "arr = np.array([np.arange(4), np.arange(10, 14)])\n",
        "\n",
        "print(arr)"
      ],
      "execution_count": 18,
      "outputs": [
        {
          "output_type": "stream",
          "name": "stdout",
          "text": [
            "[[ 0  1  2  3]\n",
            " [10 11 12 13]]\n"
          ]
        }
      ]
    },
    {
      "cell_type": "markdown",
      "metadata": {
        "id": "GFuaihgyHR8h"
      },
      "source": [
        ">(b) Print the shape of the array :\n"
      ]
    },
    {
      "cell_type": "code",
      "metadata": {
        "id": "vSeLW1C7XkMu",
        "colab": {
          "base_uri": "https://localhost:8080/"
        },
        "outputId": "5b265e7c-226c-4bc8-fa18-44c5bb8ac182"
      },
      "source": [
        "# Your Code Here#\n",
        "print(arr.shape)"
      ],
      "execution_count": 23,
      "outputs": [
        {
          "output_type": "stream",
          "name": "stdout",
          "text": [
            "(2, 4)\n"
          ]
        }
      ]
    },
    {
      "cell_type": "markdown",
      "metadata": {
        "id": "S9JfjvRNQXRX"
      },
      "source": [
        "\n",
        "\n",
        ">(c)  Print the size of the array:\n",
        "\n"
      ]
    },
    {
      "cell_type": "code",
      "metadata": {
        "id": "DXloqUXrK-nM",
        "colab": {
          "base_uri": "https://localhost:8080/"
        },
        "outputId": "f9063f3c-517d-4026-b80d-d94b46e9329d"
      },
      "source": [
        "# Your Code Here#\n",
        "print(arr.size)"
      ],
      "execution_count": 24,
      "outputs": [
        {
          "output_type": "stream",
          "name": "stdout",
          "text": [
            "8\n"
          ]
        }
      ]
    },
    {
      "cell_type": "markdown",
      "metadata": {
        "id": "uT_f2eLVQg3h"
      },
      "source": [
        "\n",
        "\n",
        ">(d)  Print the maximum and minimum of the array:\n",
        "\n"
      ]
    },
    {
      "cell_type": "code",
      "metadata": {
        "id": "wcVdZoTuQnx5",
        "colab": {
          "base_uri": "https://localhost:8080/"
        },
        "outputId": "06422cf3-7d67-44f0-9fe5-1424ae34a08a"
      },
      "source": [
        "# Your Code Here#\n",
        "print(arr.min())\n",
        "print(arr.max())\n"
      ],
      "execution_count": 20,
      "outputs": [
        {
          "output_type": "stream",
          "name": "stdout",
          "text": [
            "0\n",
            "13\n"
          ]
        }
      ]
    },
    {
      "cell_type": "markdown",
      "metadata": {
        "id": "ymRcEsoPQor3"
      },
      "source": [
        "###2. Let’s generate new arrays by modifying our array.\n",
        "Read the last code chunk on page 4 and read on until page 7  \n",
        "\t(up to “Other ways to create arrays” you’ve already read). Then:\n",
        "\n"
      ]
    },
    {
      "cell_type": "markdown",
      "metadata": {
        "id": "5mB8SDGwQ1hA"
      },
      "source": [
        "\n",
        "\n",
        ">(a)  Continue to use the array \"arr\" as defined above:\n",
        "\n",
        "\n"
      ]
    },
    {
      "cell_type": "markdown",
      "metadata": {
        "id": "V7VOA6lWRulp"
      },
      "source": [
        "\n",
        "\n",
        "> (b) Re-shape array \"arr\" to (2, 2, 2) and print it:\n",
        "\n",
        "\n"
      ]
    },
    {
      "cell_type": "code",
      "metadata": {
        "id": "0kQ0HtXvRfPZ"
      },
      "source": [
        "# Your Code Here#\n",
        "arr = arr.reshape(2,2,2)\n"
      ],
      "execution_count": 26,
      "outputs": []
    },
    {
      "cell_type": "markdown",
      "metadata": {
        "id": "YEDbBZKpR14i"
      },
      "source": [
        "\n",
        "\n",
        ">(c)  Print the array transposed:\n",
        "\n",
        "\n"
      ]
    },
    {
      "cell_type": "code",
      "metadata": {
        "id": "A8dgmHOtR1OJ",
        "colab": {
          "base_uri": "https://localhost:8080/"
        },
        "outputId": "ac4a2103-3622-4b15-e384-51c837b9791f"
      },
      "source": [
        "# Your Code Here#\n",
        "print(arr)\n"
      ],
      "execution_count": 27,
      "outputs": [
        {
          "output_type": "stream",
          "name": "stdout",
          "text": [
            "[[[ 0  1]\n",
            "  [ 2  3]]\n",
            "\n",
            " [[10 11]\n",
            "  [12 13]]]\n"
          ]
        }
      ]
    },
    {
      "cell_type": "markdown",
      "metadata": {
        "id": "nIIIj6a4R5vA"
      },
      "source": [
        "\n",
        "\n",
        ">(d)  Print the array flattened to a single dimension:\n",
        "\n",
        "\n"
      ]
    },
    {
      "cell_type": "code",
      "metadata": {
        "id": "qUrxPgsJR4CV"
      },
      "source": [
        "# Your Code Here#\n",
        "arr = arr.flatten()\n"
      ],
      "execution_count": 28,
      "outputs": []
    },
    {
      "cell_type": "markdown",
      "metadata": {
        "id": "N_NnXhzASPHS"
      },
      "source": [
        "\n",
        "\n",
        ">(e)  Print the array converted to floats:\n",
        "\n",
        "\n"
      ]
    },
    {
      "cell_type": "code",
      "metadata": {
        "id": "W0d3RFvDSQlA",
        "colab": {
          "base_uri": "https://localhost:8080/"
        },
        "outputId": "1524e288-f1e0-491c-8ac6-c7413cb0d792"
      },
      "source": [
        "# Your Code Here#\n",
        "arr = arr.astype(float)\n",
        "print(arr)\n"
      ],
      "execution_count": 34,
      "outputs": [
        {
          "output_type": "stream",
          "name": "stdout",
          "text": [
            "[ 0.  1.  2.  3. 10. 11. 12. 13.]\n"
          ]
        }
      ]
    },
    {
      "cell_type": "markdown",
      "metadata": {
        "id": "wlaXfi70SSUC"
      },
      "source": [
        "\n",
        "\n",
        ">(f) Create a 2-D array shape (2, 4) containing two lists [0, 3.1, 2.2, 1.1] and [7, 4, 3.14, 11] and assign it to the variable \"arr2\":\n",
        "\n",
        "\n"
      ]
    },
    {
      "cell_type": "code",
      "metadata": {
        "id": "u2ieDOfHSTLw",
        "colab": {
          "base_uri": "https://localhost:8080/"
        },
        "outputId": "83004e2d-5229-4792-da3c-fdad5215bfd0"
      },
      "source": [
        "# Your Code Here#\n",
        "arr2= np.array([[0, 3.1, 2.2, 1.1], [7, 4, 3.14, 11]])\n",
        "\n",
        "print(arr2)"
      ],
      "execution_count": 21,
      "outputs": [
        {
          "output_type": "stream",
          "name": "stdout",
          "text": [
            "[[ 0.    3.1   2.2   1.1 ]\n",
            " [ 7.    4.    3.14 11.  ]]\n"
          ]
        }
      ]
    },
    {
      "cell_type": "code",
      "metadata": {
        "id": "SU7Q5BMMYtXB"
      },
      "source": [],
      "execution_count": null,
      "outputs": []
    },
    {
      "cell_type": "markdown",
      "metadata": {
        "id": "b7N5elRAST-u"
      },
      "source": [
        "\n",
        "\n",
        ">(g) Use  concatenate  function to concatenate \"arr\" and \"arr2\":\n",
        "\n",
        "\n"
      ]
    },
    {
      "cell_type": "code",
      "metadata": {
        "id": "NLxAKMvnSUdU",
        "colab": {
          "base_uri": "https://localhost:8080/"
        },
        "outputId": "2bffd4dc-0910-4d65-95d4-b62db98934d3"
      },
      "source": [
        "# Your Code Here#\n",
        "arr = arr.reshape(2,4)\n",
        "arr_conc = np.concatenate((arr,arr2))\n",
        "\n",
        "print(arr_conc)"
      ],
      "execution_count": 36,
      "outputs": [
        {
          "output_type": "stream",
          "name": "stdout",
          "text": [
            "[[ 0.    1.    2.    3.  ]\n",
            " [10.   11.   12.   13.  ]\n",
            " [ 0.    3.1   2.2   1.1 ]\n",
            " [ 7.    4.    3.14 11.  ]]\n"
          ]
        }
      ]
    },
    {
      "cell_type": "markdown",
      "metadata": {
        "id": "EQKgp9DtSVis"
      },
      "source": [
        "\n",
        "> (h) As you’ve read on page 7, you can use newaxis function to expand the shape of a 1-D array. In the case of multidimensional arrays you can use expand_dims function as shown here. Use expand_dims function and print \"arr\" array re-shaped to (2, 4, 1):\n",
        "\n",
        "\n"
      ]
    },
    {
      "cell_type": "code",
      "metadata": {
        "id": "3TNZKchOSbzx",
        "colab": {
          "base_uri": "https://localhost:8080/"
        },
        "outputId": "21c3c36e-7a33-4a61-f2d7-05153d873d07"
      },
      "source": [
        "# Your Code Here#\n",
        "arr = np.expand_dims(arr,axis=2)\n",
        "print(arr.shape)\n",
        "print(arr)\n"
      ],
      "execution_count": 52,
      "outputs": [
        {
          "output_type": "stream",
          "name": "stdout",
          "text": [
            "(2, 4, 1)\n",
            "[[[ 0]\n",
            "  [ 1]\n",
            "  [ 2]\n",
            "  [ 3]]\n",
            "\n",
            " [[10]\n",
            "  [11]\n",
            "  [12]\n",
            "  [13]]]\n"
          ]
        }
      ]
    },
    {
      "cell_type": "markdown",
      "metadata": {
        "id": "FGJJSmo0ScVK"
      },
      "source": [
        "**Note:** np.fromstring() only works for floats. If we want to use it with other types, the type must be given as an argument, e.g. np.fromstring(str, dtype=int)"
      ]
    }
  ]
}