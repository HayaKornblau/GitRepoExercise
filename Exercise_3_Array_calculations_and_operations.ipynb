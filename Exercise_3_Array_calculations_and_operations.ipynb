{
  "nbformat": 4,
  "nbformat_minor": 0,
  "metadata": {
    "colab": {
      "name": "Exercise #3: Array calculations and operations.ipynb",
      "provenance": [],
      "include_colab_link": true
    },
    "kernelspec": {
      "name": "python3",
      "display_name": "Python 3"
    },
    "accelerator": "GPU"
  },
  "cells": [
    {
      "cell_type": "markdown",
      "metadata": {
        "id": "view-in-github",
        "colab_type": "text"
      },
      "source": [
        "<a href=\"https://colab.research.google.com/github/HayaKornblau/GitRepoExercise/blob/master/Exercise_3_Array_calculations_and_operations.ipynb\" target=\"_parent\"><img src=\"https://colab.research.google.com/assets/colab-badge.svg\" alt=\"Open In Colab\"/></a>"
      ]
    },
    {
      "cell_type": "markdown",
      "metadata": {
        "id": "IZe1ZEda2w-d"
      },
      "source": [
        "#Exercise #3: Array calculations and operations\n",
        "\n",
        "###Aim: Use NumPy arrays in mathematical calculations\n",
        "\n",
        "In this exercise we refers to a useful guide that can help you solve any questions in NumPy. This guide also summarize all that is needed to know about NumPy. [link to the guide](https://drive.google.com/file/d/0B9crmgoWupXkLTh0TS1HMzlrSVk/view)\n",
        "\n",
        "###Issue covered:\n",
        "\n",
        "\n",
        "\n",
        "*   Mathematical operations with arrays.\n",
        "*   Mathematical operations mixing scalars and arrays.\n",
        "*   Comparisons operators and Boolean operations on arrays.\n",
        "*   Using the \"where\" method.\n",
        "*   Mathematical operations on vectors.\n",
        "*   Find coefficients and roots of polynomial.\n",
        "\n",
        "\n",
        "\n",
        "First, import NumPy as np:\n",
        "\n",
        "\n",
        "\n",
        "\n",
        "\n"
      ]
    },
    {
      "cell_type": "code",
      "metadata": {
        "id": "4dgyBR1B3QVZ"
      },
      "source": [
        "import numpy as np"
      ],
      "execution_count": 1,
      "outputs": []
    },
    {
      "cell_type": "markdown",
      "metadata": {
        "id": "TWRqPfxK5Q-M"
      },
      "source": [
        "\n",
        "\n",
        "### 1.  Let’s perform some array calculations.\n",
        "**Read “Array mathematics” (pages 8-10) and then:**\n",
        "\n",
        "\n"
      ]
    },
    {
      "cell_type": "markdown",
      "metadata": {
        "id": "tCxziE8W6ryJ"
      },
      "source": [
        "\n",
        "> (a) Create a 2-D array of shape (2, 4) containing two lists (range(4), range(10, 14)) and assign it to the variable \"a\":\n",
        "\n",
        "\n",
        "\n",
        "\n",
        "\n",
        "\n"
      ]
    },
    {
      "cell_type": "code",
      "metadata": {
        "id": "M8Gr9PQC64mb",
        "colab": {
          "base_uri": "https://localhost:8080/"
        },
        "outputId": "12c2c572-4df2-47f8-ef1e-04b96ce11e1e"
      },
      "source": [
        "# Your Code Here#\n",
        "a = np.array([np.arange(4), np.arange(10, 14)])\n",
        "\n",
        "print(a)"
      ],
      "execution_count": 86,
      "outputs": [
        {
          "output_type": "stream",
          "name": "stdout",
          "text": [
            "[[ 0  1  2  3]\n",
            " [10 11 12 13]]\n"
          ]
        }
      ]
    },
    {
      "cell_type": "markdown",
      "metadata": {
        "id": "GFuaihgyHR8h"
      },
      "source": [
        "> (b) Create a 2-D array of shape (2, 4) containing two lists (range(4), range(10, 14)) and assign it to the variable \"b\" :\n"
      ]
    },
    {
      "cell_type": "code",
      "metadata": {
        "id": "U3jo3clSQe2L",
        "colab": {
          "base_uri": "https://localhost:8080/"
        },
        "outputId": "ebf024c5-baf0-43d8-dea7-922cc00f7c13"
      },
      "source": [
        "# Your Code Here#\n",
        "b = np.array([np.arange(4), np.arange(10, 14)])\n",
        "\n",
        "print(b)"
      ],
      "execution_count": 3,
      "outputs": [
        {
          "output_type": "stream",
          "name": "stdout",
          "text": [
            "[[ 0  1  2  3]\n",
            " [10 11 12 13]]\n"
          ]
        }
      ]
    },
    {
      "cell_type": "markdown",
      "metadata": {
        "id": "S9JfjvRNQXRX"
      },
      "source": [
        "\n",
        "> (c) Multiply array \"a\" by \"b\" and view the results:\n",
        "\n",
        "\n"
      ]
    },
    {
      "cell_type": "code",
      "metadata": {
        "id": "DXloqUXrK-nM",
        "colab": {
          "base_uri": "https://localhost:8080/"
        },
        "outputId": "e1123e27-af60-4c4b-e3ed-05c054a78092"
      },
      "source": [
        "# Your Code Here#\n",
        "print(a * b)\n"
      ],
      "execution_count": 7,
      "outputs": [
        {
          "output_type": "stream",
          "name": "stdout",
          "text": [
            "[[  0   1   4   9]\n",
            " [100 121 144 169]]\n"
          ]
        }
      ]
    },
    {
      "cell_type": "markdown",
      "source": [],
      "metadata": {
        "id": "sfdft3VjL-Hd"
      }
    },
    {
      "cell_type": "markdown",
      "metadata": {
        "id": "W8GJq0rf1RTA"
      },
      "source": [
        "Do you understand how NumPy has used its broadcasting feature to do the calculation even though the arrays are different shapes?"
      ]
    },
    {
      "cell_type": "markdown",
      "metadata": {
        "id": "uT_f2eLVQg3h"
      },
      "source": [
        "\n",
        "\n",
        "> (d) Multiply array \"b\" by 100 and assign the result to the variable \"b1\":\n",
        "\n"
      ]
    },
    {
      "cell_type": "code",
      "metadata": {
        "id": "wcVdZoTuQnx5",
        "colab": {
          "base_uri": "https://localhost:8080/"
        },
        "outputId": "2bacd078-b984-4f46-db4b-3a11d6198df1"
      },
      "source": [
        "# Your Code Here#\n",
        "b1 = 100 * b\n",
        "\n",
        "print(b1)"
      ],
      "execution_count": 9,
      "outputs": [
        {
          "output_type": "stream",
          "name": "stdout",
          "text": [
            "[[   0  100  200  300]\n",
            " [1000 1100 1200 1300]]\n"
          ]
        }
      ]
    },
    {
      "cell_type": "markdown",
      "metadata": {
        "id": "tPgGzdv1V3lX"
      },
      "source": [
        "\n",
        "\n",
        "> (e) Multiply array \"b\" by 100.0 and assign the result to the variable \"b2\":\n",
        "\n"
      ]
    },
    {
      "cell_type": "code",
      "metadata": {
        "id": "chRMlDigV4K4",
        "colab": {
          "base_uri": "https://localhost:8080/"
        },
        "outputId": "3006619d-c1ee-4d53-96a0-04c5bfe85ec1"
      },
      "source": [
        "# Your Code Here#\n",
        "b2 = 100.0 * b\n",
        "\n",
        "print(b2)"
      ],
      "execution_count": 69,
      "outputs": [
        {
          "output_type": "stream",
          "name": "stdout",
          "text": [
            "[[   0.  100.  200.  300.]\n",
            " [1000. 1100. 1200. 1300.]]\n"
          ]
        }
      ]
    },
    {
      "cell_type": "markdown",
      "metadata": {
        "id": "fxR1WFi5V6bZ"
      },
      "source": [
        "\n",
        "\n",
        ">(f) Print b1 == b2:\n",
        "\n",
        "\n",
        "\n"
      ]
    },
    {
      "cell_type": "code",
      "metadata": {
        "id": "JLwxkjOaV6_T",
        "colab": {
          "base_uri": "https://localhost:8080/"
        },
        "outputId": "d950b0fc-db4b-4184-c44c-2bccc715ed06"
      },
      "source": [
        "# Your Code Here#\n",
        "print(b1 == b2)"
      ],
      "execution_count": 14,
      "outputs": [
        {
          "output_type": "stream",
          "name": "stdout",
          "text": [
            "[[ True  True  True  True]\n",
            " [ True  True  True  True]]\n"
          ]
        }
      ]
    },
    {
      "cell_type": "markdown",
      "metadata": {
        "id": "CoEpdBZc1yyO"
      },
      "source": [
        "Are they the same?"
      ]
    },
    {
      "cell_type": "markdown",
      "metadata": {
        "id": "hbafHSgGWPtC"
      },
      "source": [
        "\n",
        "\n",
        ">(g) Why do they display differently? Interrogate the typecode of each array to find out why:\n",
        "\n"
      ]
    },
    {
      "cell_type": "code",
      "metadata": {
        "id": "ofR9uzC_WQc8",
        "colab": {
          "base_uri": "https://localhost:8080/"
        },
        "outputId": "915d00cf-47a5-4afc-bab7-bb5aa651db08"
      },
      "source": [
        "# Your Code Here#\n",
        "print(b1.dtype)\n",
        "print(b2.dtype)\n"
      ],
      "execution_count": 18,
      "outputs": [
        {
          "output_type": "stream",
          "name": "stdout",
          "text": [
            "int64\n",
            "float64\n"
          ]
        }
      ]
    },
    {
      "cell_type": "markdown",
      "metadata": {
        "id": "ymRcEsoPQor3"
      },
      "source": [
        "###2. Let's perform some operations on array.\n",
        "Read the last code chunk on page 4 and read on until page 7 includes \n",
        "\tRead “Basic array operations” (pages 11-12) and then:\n",
        "\n"
      ]
    },
    {
      "cell_type": "markdown",
      "metadata": {
        "id": "5mB8SDGwQ1hA"
      },
      "source": [
        "\n",
        "\n",
        "> (a) Continue to use arrays \"a\" defined above:\n",
        "\n",
        "\n"
      ]
    },
    {
      "cell_type": "markdown",
      "metadata": {
        "id": "V7VOA6lWRulp"
      },
      "source": [
        "\n",
        "\n",
        "> (b) Print the sum, mean and the product of \"a\" in two different ways:\n",
        "\n",
        "\n"
      ]
    },
    {
      "cell_type": "code",
      "metadata": {
        "id": "0kQ0HtXvRfPZ",
        "colab": {
          "base_uri": "https://localhost:8080/"
        },
        "outputId": "ae9a32a8-aa38-4c82-f750-d0650cb4c045"
      },
      "source": [
        "# Your Code Here#\n",
        "print(a.sum())\n",
        "print(a.mean())\n",
        "print(a.var())\n",
        "print(a.std())\n"
      ],
      "execution_count": 87,
      "outputs": [
        {
          "output_type": "stream",
          "name": "stdout",
          "text": [
            "52\n",
            "6.5\n",
            "26.25\n",
            "5.123475382979799\n"
          ]
        }
      ]
    },
    {
      "cell_type": "markdown",
      "metadata": {
        "id": "YEDbBZKpR14i"
      },
      "source": [
        "\n",
        "\n",
        ">(c) Print the variance and the standard deviation of \"a\"in two different ways:\n",
        "\n",
        "\n"
      ]
    },
    {
      "cell_type": "code",
      "metadata": {
        "id": "A8dgmHOtR1OJ",
        "colab": {
          "base_uri": "https://localhost:8080/"
        },
        "outputId": "5c3280be-4cc2-4688-a53b-38c416aff6e1"
      },
      "source": [
        "# Your Code Here#\n",
        "\n",
        "# calc var - way 1\n",
        "print(a.std())\n",
        "\n",
        "# calc var - way 2\n",
        "x = np.abs(a - a.mean())**2\n",
        "std = np.sqrt(np.mean(x))\n",
        "print(std)"
      ],
      "execution_count": 46,
      "outputs": [
        {
          "output_type": "stream",
          "name": "stdout",
          "text": [
            "5.123475382979799\n",
            "5.123475382979799\n"
          ]
        }
      ]
    },
    {
      "cell_type": "markdown",
      "metadata": {
        "id": "HiSsOJ1zZAj0"
      },
      "source": [
        "###3. Let’s look at array comparisons.\n",
        "Read “Comparisons operators and value testing” (pages 12-14). Then:\n",
        "\n"
      ]
    },
    {
      "cell_type": "markdown",
      "metadata": {
        "id": "b7N5elRAST-u"
      },
      "source": [
        "\n",
        "\n",
        ">(a)  Create an array of values 0 to 9 and assign it to the variable \"arr\":\n",
        "\n",
        "\n"
      ]
    },
    {
      "cell_type": "code",
      "metadata": {
        "id": "NLxAKMvnSUdU",
        "colab": {
          "base_uri": "https://localhost:8080/"
        },
        "outputId": "8fe24396-63af-453b-fc13-dde2a2e50192"
      },
      "source": [
        "# Your Code Here#\n",
        "arr = np.arange(stop=10)\n",
        "\n",
        "print(arr)"
      ],
      "execution_count": 47,
      "outputs": [
        {
          "output_type": "stream",
          "name": "stdout",
          "text": [
            "[0 1 2 3 4 5 6 7 8 9]\n"
          ]
        }
      ]
    },
    {
      "cell_type": "markdown",
      "metadata": {
        "id": "EQKgp9DtSVis"
      },
      "source": [
        "\n",
        "\n",
        ">(b)  Print two different ways of expressing the condition where the array is less than 3:\n",
        "\n",
        "\n"
      ]
    },
    {
      "cell_type": "code",
      "metadata": {
        "id": "3TNZKchOSbzx",
        "colab": {
          "base_uri": "https://localhost:8080/"
        },
        "outputId": "9731286e-6c2d-4cc6-8454-28d02c20d29e"
      },
      "source": [
        "# Your Code Here#\n",
        "print(arr < 3)\n",
        "print(np.where(arr < 3, True, False))\n"
      ],
      "execution_count": 52,
      "outputs": [
        {
          "output_type": "stream",
          "name": "stdout",
          "text": [
            "[ True  True  True False False False False False False False]\n",
            "[ True  True  True False False False False False False False]\n"
          ]
        }
      ]
    },
    {
      "cell_type": "markdown",
      "metadata": {
        "id": "M_Uht7xyZKGj"
      },
      "source": [
        "\n",
        "\n",
        ">(c)  Create a numpy condition where \"arr\" is less than 3 OR greater than 8:\n",
        "\n",
        "\n"
      ]
    },
    {
      "cell_type": "code",
      "metadata": {
        "id": "vhcw0ivoabhH",
        "colab": {
          "base_uri": "https://localhost:8080/"
        },
        "outputId": "d62b1c5d-c8f6-4876-888f-e0ef266186f8"
      },
      "source": [
        "# Your Code Here#\n",
        "print(arr[np.logical_or(arr < 3, arr > 8)])\n"
      ],
      "execution_count": 60,
      "outputs": [
        {
          "output_type": "stream",
          "name": "stdout",
          "text": [
            "[0 1 2 9]\n"
          ]
        }
      ]
    },
    {
      "cell_type": "markdown",
      "metadata": {
        "id": "S8uivrLuZKHB"
      },
      "source": [
        "\n",
        "\n",
        ">(d)  Use the  *where*  function to create a new array where the value is arr * 5 if the above condition is True and arr * -5 where the condition is False:\n",
        "\n",
        "\n"
      ]
    },
    {
      "cell_type": "code",
      "metadata": {
        "id": "oDeBQhLQZKHD",
        "colab": {
          "base_uri": "https://localhost:8080/"
        },
        "outputId": "aeebfb3c-3978-40e0-85b9-3320bf920466"
      },
      "source": [
        "# Your Code Here#\n",
        "arr1 = 5* np.where(np.logical_or(arr < 3, arr > 8), arr, -arr)\n",
        "print(arr1)\n"
      ],
      "execution_count": 71,
      "outputs": [
        {
          "output_type": "stream",
          "name": "stdout",
          "text": [
            "[  0   5  10 -15 -20 -25 -30 -35 -40  45]\n"
          ]
        }
      ]
    },
    {
      "cell_type": "markdown",
      "metadata": {
        "id": "Qyqe78f9ZC5N"
      },
      "source": [
        "###4. Let’s look at item selection and manipulation.\n",
        "Read “Array item selection and manipulation” (pages 14-16).\n",
        "\n",
        "\n"
      ]
    },
    {
      "cell_type": "markdown",
      "metadata": {
        "id": "ZKU-9cUnZL9f"
      },
      "source": [
        "\n",
        "\n",
        ">(a)  Continue to use arrays \"a\" defined above:\n",
        "\n",
        "\n"
      ]
    },
    {
      "cell_type": "markdown",
      "metadata": {
        "id": "BXR-B8keZL9o"
      },
      "source": [
        "\n",
        "\n",
        ">(b)  Print an array contains all the values from \"a\" that are greater than 1:\n",
        "\n",
        "\n"
      ]
    },
    {
      "cell_type": "code",
      "metadata": {
        "id": "bBhq6lKqZL9p",
        "colab": {
          "base_uri": "https://localhost:8080/"
        },
        "outputId": "ffe42505-8101-4c48-9a56-e7c7504226fe"
      },
      "source": [
        "# Your Code Here#\n",
        "print(a[a > 1])\n"
      ],
      "execution_count": 88,
      "outputs": [
        {
          "output_type": "stream",
          "name": "stdout",
          "text": [
            "[ 2  3 10 11 12 13]\n"
          ]
        }
      ]
    },
    {
      "cell_type": "markdown",
      "metadata": {
        "id": "momFetd_ZL9t"
      },
      "source": [
        "\n",
        "\n",
        ">(c)  Print an array contains all the values from \"a\" that are greater than 3 and smaller than 11:\n",
        "\n",
        "\n"
      ]
    },
    {
      "cell_type": "code",
      "metadata": {
        "id": "rHI4S7sfZL9u",
        "colab": {
          "base_uri": "https://localhost:8080/"
        },
        "outputId": "579bb492-f6c4-4a16-c3f9-89a99ac11269"
      },
      "source": [
        "# Your Code Here#\n",
        "print(a[np.logical_and(a > 3, a < 11)])\n"
      ],
      "execution_count": 89,
      "outputs": [
        {
          "output_type": "stream",
          "name": "stdout",
          "text": [
            "[10]\n"
          ]
        }
      ]
    },
    {
      "cell_type": "markdown",
      "metadata": {
        "id": "zONW_cEvZL9y"
      },
      "source": [
        "\n",
        "\n",
        ">(d)  Create an array from the list range(6) and assign it to the variable \"b\":\n",
        "\n"
      ]
    },
    {
      "cell_type": "code",
      "metadata": {
        "id": "Ol5cQ93GZL90",
        "colab": {
          "base_uri": "https://localhost:8080/"
        },
        "outputId": "85adf1bb-e244-4765-adaf-e6c3539fd974"
      },
      "source": [
        "# Your Code Here#\n",
        "b = np.array([np.arange(6)])\n",
        "print(b)\n"
      ],
      "execution_count": 78,
      "outputs": [
        {
          "output_type": "stream",
          "name": "stdout",
          "text": [
            "[[0 1 2 3 4 5]]\n"
          ]
        }
      ]
    },
    {
      "cell_type": "markdown",
      "metadata": {
        "id": "TtS3z4rQZL95"
      },
      "source": [
        "\n",
        "\n",
        ">(e)  Use the  *put*  function to replace the first element of \"b\" with 6:\n",
        "\n",
        "\n"
      ]
    },
    {
      "cell_type": "code",
      "metadata": {
        "id": "ZjKZYkFJZL96",
        "colab": {
          "base_uri": "https://localhost:8080/"
        },
        "outputId": "23a23e0a-3a73-4a48-d668-5a7f48101d92"
      },
      "source": [
        "# Your Code Here#\n",
        "b.put(5, 6)\n",
        "print(b)\n"
      ],
      "execution_count": 82,
      "outputs": [
        {
          "output_type": "stream",
          "name": "stdout",
          "text": [
            "[[0 1 2 3 4 6]]\n"
          ]
        }
      ]
    },
    {
      "cell_type": "markdown",
      "metadata": {
        "id": "viMNO5ikZL9-"
      },
      "source": [
        "\n",
        "\n",
        ">(f)  Create an array from the list range(5) and assign it to the variable \"c\":\n",
        "\n",
        "\n"
      ]
    },
    {
      "cell_type": "code",
      "metadata": {
        "id": "QPIY4YztZL9_",
        "colab": {
          "base_uri": "https://localhost:8080/"
        },
        "outputId": "2b432e71-14c6-450f-ba83-9046e6100748"
      },
      "source": [
        "# Your Code Here#\n",
        "c = np.array([np.arange(5)])\n",
        "print(c)\n"
      ],
      "execution_count": 90,
      "outputs": [
        {
          "output_type": "stream",
          "name": "stdout",
          "text": [
            "[[0 1 2 3 4]]\n"
          ]
        }
      ]
    },
    {
      "cell_type": "markdown",
      "metadata": {
        "id": "or4R15o-b0jq"
      },
      "source": [
        "\n",
        "\n",
        ">(g)   Use the  *put*  function to replace the first element of \"b\" with the last element of \"c\":\n",
        "\n"
      ]
    },
    {
      "cell_type": "code",
      "metadata": {
        "id": "OSFMwExBb3Tu",
        "colab": {
          "base_uri": "https://localhost:8080/"
        },
        "outputId": "e1d6ddb7-03ac-4791-99fb-b3a8c4a468c3"
      },
      "source": [
        "# Your Code Here#\n",
        "b.put(0, a[-1])\n",
        "print(b)\n"
      ],
      "execution_count": 92,
      "outputs": [
        {
          "output_type": "stream",
          "name": "stdout",
          "text": [
            "[[10  1  2  3  4  6]]\n"
          ]
        }
      ]
    },
    {
      "cell_type": "markdown",
      "metadata": {
        "id": "056ZwQF_41sj"
      },
      "source": [
        "## Goog Job!!"
      ]
    }
  ]
}