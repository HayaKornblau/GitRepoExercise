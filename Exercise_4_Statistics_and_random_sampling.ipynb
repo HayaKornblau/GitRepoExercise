{
  "nbformat": 4,
  "nbformat_minor": 0,
  "metadata": {
    "colab": {
      "name": "Exercise #4: Statistics and random sampling",
      "provenance": [],
      "include_colab_link": true
    },
    "kernelspec": {
      "name": "python3",
      "display_name": "Python 3"
    },
    "accelerator": "GPU"
  },
  "cells": [
    {
      "cell_type": "markdown",
      "metadata": {
        "id": "view-in-github",
        "colab_type": "text"
      },
      "source": [
        "<a href=\"https://colab.research.google.com/github/HayaKornblau/GitRepoExercise/blob/master/Exercise_4_Statistics_and_random_sampling.ipynb\" target=\"_parent\"><img src=\"https://colab.research.google.com/assets/colab-badge.svg\" alt=\"Open In Colab\"/></a>"
      ]
    },
    {
      "cell_type": "markdown",
      "metadata": {
        "id": "IZe1ZEda2w-d"
      },
      "source": [
        "#Exercise #4: Statistics and random sampling\n",
        "\n",
        "###Aim: Use NumPy arrays in statistics and randomize samples\n",
        "\n",
        "In this exercise we refers to a useful guide that can help you solve any questions in NumPy. This guide also summarize all that is needed to know about NumPy. [link to the guide](https://drive.google.com/file/d/0B9crmgoWupXkLTh0TS1HMzlrSVk/view)\n",
        "\n",
        "###Issue covered:\n",
        "\n",
        "\n",
        "\n",
        "*   Find the median of an array.\n",
        "*   Find the correlation coefficient of an array.\n",
        "\n",
        "*   Generate random sample from normal distribution.\n",
        "*   Reordering array elements.\n",
        "\n",
        "\n",
        "### First, import Numpy as np:\n",
        "\n",
        "\n"
      ]
    },
    {
      "cell_type": "code",
      "metadata": {
        "id": "4dgyBR1B3QVZ"
      },
      "source": [
        "import numpy as np"
      ],
      "execution_count": 1,
      "outputs": []
    },
    {
      "cell_type": "markdown",
      "metadata": {
        "id": "TWRqPfxK5Q-M"
      },
      "source": [
        "\n",
        "\n",
        "### 1. Let’s look at array statistics.\n",
        "Read “Statistics” on page 19 and then:\n",
        "\n",
        "\n"
      ]
    },
    {
      "cell_type": "markdown",
      "metadata": {
        "id": "tCxziE8W6ryJ"
      },
      "source": [
        "\n",
        ">(a) Create a 2-D array of shape (2, 4) containing two lists (range(4), range(10, 14)) and assign it to the variable \"a\" :\n",
        "\n",
        "\n",
        "\n",
        "\n",
        "\n"
      ]
    },
    {
      "cell_type": "code",
      "metadata": {
        "id": "M8Gr9PQC64mb",
        "colab": {
          "base_uri": "https://localhost:8080/"
        },
        "outputId": "051d5a72-a1c8-4ce5-f1d8-886d736e4d05"
      },
      "source": [
        "# Your Code Here#\n",
        "a = np.array([np.arange(4), np.arange(10, 14)])\n",
        "\n",
        "print(a)"
      ],
      "execution_count": 2,
      "outputs": [
        {
          "output_type": "stream",
          "name": "stdout",
          "text": [
            "[[ 0  1  2  3]\n",
            " [10 11 12 13]]\n"
          ]
        }
      ]
    },
    {
      "cell_type": "markdown",
      "metadata": {
        "id": "GFuaihgyHR8h"
      },
      "source": [
        ">(b) Print the median of \"a\" :\n"
      ]
    },
    {
      "cell_type": "code",
      "metadata": {
        "id": "U3jo3clSQe2L",
        "colab": {
          "base_uri": "https://localhost:8080/"
        },
        "outputId": "ca49dbcc-0421-4490-ff4e-c80f2fe9ecfa"
      },
      "source": [
        "# Your Code Here#\n",
        "print(np.median(a))"
      ],
      "execution_count": 4,
      "outputs": [
        {
          "output_type": "stream",
          "name": "stdout",
          "text": [
            "6.5\n"
          ]
        }
      ]
    },
    {
      "cell_type": "markdown",
      "metadata": {
        "id": "S9JfjvRNQXRX"
      },
      "source": [
        "\n",
        "\n",
        ">(c)   Print the correlation coefficient of \"a\":\n",
        "\n"
      ]
    },
    {
      "cell_type": "code",
      "metadata": {
        "id": "DXloqUXrK-nM",
        "colab": {
          "base_uri": "https://localhost:8080/"
        },
        "outputId": "939338aa-4257-4c49-a8f0-8d88751d16b2"
      },
      "source": [
        "# Your Code Here#\n",
        "print(np.corrcoef(a))"
      ],
      "execution_count": 5,
      "outputs": [
        {
          "output_type": "stream",
          "name": "stdout",
          "text": [
            "[[1. 1.]\n",
            " [1. 1.]]\n"
          ]
        }
      ]
    },
    {
      "cell_type": "markdown",
      "metadata": {
        "id": "ymRcEsoPQor3"
      },
      "source": [
        "###2. Let's generate random samples.\n",
        "Read “Random numbers” (pages 19-21) and then:\n",
        "\n"
      ]
    },
    {
      "cell_type": "markdown",
      "metadata": {
        "id": "5mB8SDGwQ1hA"
      },
      "source": [
        "\n",
        "\n",
        ">(a)  Create a random array of shape (2, 4):\n",
        "\n",
        "\n"
      ]
    },
    {
      "cell_type": "code",
      "metadata": {
        "id": "cLBrFybcRuDV",
        "colab": {
          "base_uri": "https://localhost:8080/"
        },
        "outputId": "eb4022ea-9878-4187-d995-904506b2147e"
      },
      "source": [
        "# Your Code Here#\n",
        "print(np.random.rand(2,4))\n"
      ],
      "execution_count": 6,
      "outputs": [
        {
          "output_type": "stream",
          "name": "stdout",
          "text": [
            "[[0.68055463 0.12032668 0.25999275 0.12455651]\n",
            " [0.82406279 0.09784624 0.59833317 0.72634596]]\n"
          ]
        }
      ]
    },
    {
      "cell_type": "markdown",
      "metadata": {
        "id": "V7VOA6lWRulp"
      },
      "source": [
        "\n",
        "\n",
        ">(b)  Use a function that selects a random integer between 2 to 10:\n",
        "\n",
        "\n"
      ]
    },
    {
      "cell_type": "code",
      "metadata": {
        "id": "0kQ0HtXvRfPZ",
        "colab": {
          "base_uri": "https://localhost:8080/"
        },
        "outputId": "a283e569-6395-40a0-ac11-eee71192b7f3"
      },
      "source": [
        "# Your Code Here#\n",
        "print(np.random.randint(2,10))"
      ],
      "execution_count": 8,
      "outputs": [
        {
          "output_type": "stream",
          "name": "stdout",
          "text": [
            "7\n"
          ]
        }
      ]
    },
    {
      "cell_type": "markdown",
      "metadata": {
        "id": "YEDbBZKpR14i"
      },
      "source": [
        "\n",
        "\n",
        ">(c)  Generate a sample of size 40 from a standard normal distribution (with mean 0 and standard deviation 1), and assign it to the variable \"b\":\n",
        "\n",
        "\n"
      ]
    },
    {
      "cell_type": "code",
      "metadata": {
        "id": "A8dgmHOtR1OJ",
        "colab": {
          "base_uri": "https://localhost:8080/"
        },
        "outputId": "56663cc6-c17f-47aa-f51a-73b6fcc86ce8"
      },
      "source": [
        "# Your Code Here#\n",
        "b = np.random.normal(size=40)\n",
        "print(b)"
      ],
      "execution_count": 9,
      "outputs": [
        {
          "output_type": "stream",
          "name": "stdout",
          "text": [
            "[-1.07623892e+00 -1.31781202e+00 -2.08258655e-01  1.25764556e+00\n",
            "  7.24320560e-01  6.02906351e-01  8.20742813e-01 -5.92900208e-01\n",
            "  2.00119682e-01 -5.45655866e-01  3.91061077e-01  1.07707300e+00\n",
            "  1.95007487e+00  2.07681520e+00 -9.18454467e-01 -4.15222739e-01\n",
            " -1.59826047e+00 -8.70693288e-04  3.91565701e-01  1.13992551e-01\n",
            "  8.85751572e-02  1.60331455e+00 -3.11143407e-01 -6.97542349e-01\n",
            "  7.06109660e-01 -1.71154340e+00  1.20718633e+00  6.50480157e-01\n",
            "  7.38267674e-01  2.63044981e-01 -1.65405743e-01 -9.15036289e-01\n",
            "  1.92789375e-01 -5.35580228e-02  1.15490834e-01  2.86438260e-02\n",
            " -9.90103716e-01  1.21306217e+00  1.99190420e+00  9.56994292e-01]\n"
          ]
        }
      ]
    },
    {
      "cell_type": "markdown",
      "metadata": {
        "id": "N_NnXhzASPHS"
      },
      "source": [
        "\n",
        "\n",
        ">(d) Randomly shuffle the elements in \"b\", and print \"b\":\n",
        "\n",
        "\n"
      ]
    },
    {
      "cell_type": "code",
      "metadata": {
        "id": "W0d3RFvDSQlA",
        "colab": {
          "base_uri": "https://localhost:8080/"
        },
        "outputId": "73f22b4f-5336-4ad0-ab2d-ca41474a2846"
      },
      "source": [
        "# Your Code Here#\n",
        "np.random.shuffle(b)\n",
        "print(b)\n"
      ],
      "execution_count": 11,
      "outputs": [
        {
          "output_type": "stream",
          "name": "stdout",
          "text": [
            "[ 3.91565701e-01 -8.70693288e-04  1.07707300e+00 -1.65405743e-01\n",
            "  1.15490834e-01  2.86438260e-02  2.07681520e+00 -1.07623892e+00\n",
            "  2.63044981e-01  1.20718633e+00 -9.90103716e-01  1.99190420e+00\n",
            "  1.13992551e-01  1.25764556e+00 -5.45655866e-01  1.21306217e+00\n",
            "  8.85751572e-02 -9.15036289e-01 -3.11143407e-01  7.38267674e-01\n",
            "  7.06109660e-01 -4.15222739e-01  1.60331455e+00 -5.92900208e-01\n",
            "  7.24320560e-01  1.95007487e+00  1.92789375e-01  2.00119682e-01\n",
            " -6.97542349e-01 -1.59826047e+00  9.56994292e-01  3.91061077e-01\n",
            "  6.50480157e-01  6.02906351e-01 -1.71154340e+00 -1.31781202e+00\n",
            " -5.35580228e-02 -9.18454467e-01 -2.08258655e-01  8.20742813e-01]\n"
          ]
        }
      ]
    }
  ]
}